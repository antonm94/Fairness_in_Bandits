{
 "cells": [
  {
   "cell_type": "code",
   "execution_count": null,
   "metadata": {
    "collapsed": true
   },
   "outputs": [],
   "source": [
    "from test import Test\n",
    "from load_data import load_data\n",
    "import numpy as np\n",
    "import matplotlib.pyplot as plt\n",
    "import random"
   ]
  },
  {
   "cell_type": "code",
   "execution_count": null,
   "metadata": {
    "collapsed": true
   },
   "outputs": [],
   "source": [
    "T = 1000\n",
    "N_ITERATIONS = 100.\n",
    "DATA_SET = ['Bar Exam', 'Default on Credit'][0] # = 'Bar Exam'\n",
    "bandits = load_data(DATA_SET)\n",
    "e1 = np.linespace(np.finfo(float).eps, 10, 20)\n",
    "e2 = np.linespace(np.finfo(float).eps, 10, 20)\n",
    "delta = [np.finfo(float).eps]\n",
    "lam = [1]"
   ]
  },
  {
   "cell_type": "code",
   "execution_count": null,
   "metadata": {
    "collapsed": true
   },
   "outputs": [],
   "source": [
    "TEST_THOMPSON = 0\n",
    "TEST_SD_TS = 0\n",
    "TEST_FAIR_SD_TS = 1 \n",
    "METHODS = TEST_THOMPSON*['Thompson Sampling'] + TEST_SD_TS*['Stochastic Dominance Thompson Sampling'] + \\\n",
    "          TEST_FAIR_SD_TS*['Fair Stochastic Dominance Thompson Sampling']\n",
    "\n",
    "test1 = Test(bandits, METHODS, N_ITERATIONS, T, e1, e2, delta, lam)\n",
    "\n"
   ]
  }
 ],
 "metadata": {
  "kernelspec": {
   "display_name": "Python 2",
   "language": "python",
   "name": "python2"
  },
  "language_info": {
   "codemirror_mode": {
    "name": "ipython",
    "version": 2
   },
   "file_extension": ".py",
   "mimetype": "text/x-python",
   "name": "python",
   "nbconvert_exporter": "python",
   "pygments_lexer": "ipython2",
   "version": "2.7.13"
  }
 },
 "nbformat": 4,
 "nbformat_minor": 2
}
