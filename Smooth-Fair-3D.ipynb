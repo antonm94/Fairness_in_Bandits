{
 "cells": [
  {
   "cell_type": "code",
   "execution_count": null,
   "metadata": {
    "collapsed": true
   },
   "outputs": [],
   "source": [
    "from test import Test\n",
    "from load_data import load_data\n",
    "import numpy as np\n",
    "import matplotlib.pyplot as plt\n",
    "import random"
   ]
  },
  {
   "cell_type": "code",
   "execution_count": null,
   "metadata": {
    "collapsed": true
   },
   "outputs": [],
   "source": [
    "T = 100\n",
    "N_ITERATIONS = 10.\n",
    "DATA_SET = ['Bar Exam', 'Default on Credit'][0] # = 'Bar Exam'\n",
    "bandits = load_data(DATA_SET)\n"
   ]
  },
  {
   "cell_type": "code",
   "execution_count": null,
   "metadata": {
    "collapsed": true
   },
   "outputs": [],
   "source": []
  },
  {
   "cell_type": "code",
   "execution_count": null,
   "metadata": {
    "collapsed": true
   },
   "outputs": [],
   "source": [
    "n = 10 #=> 100*100*100 points\n",
    "find max e2\n",
    "e2 = np.linespace(np.finfo(float).eps, bandits.k, n) #falls e2 >= k dann ist e2>= max(D(pi||pi)) also immer smooth fair\n",
    "e1 = np.linespace(np.fifo(float).eps, 10, 1000))\n",
    "delta = np.linespace(np.finfo(float).eps, 1, n)\n",
    "fair_sd_test = FairSDTest(N_ITERATIONS, bandits, T, e1, e2, delta)\n",
    "fair_sd_test.analyse(regret = False, fair_regret=False)\n",
    "test_cases = [fair_sd_test]\n",
    "\n",
    "\n"
   ]
  },
  {
   "cell_type": "code",
   "execution_count": null,
   "metadata": {
    "collapsed": true
   },
   "outputs": [],
   "source": []
  }
 ],
 "metadata": {
  "kernelspec": {
   "display_name": "Python 2",
   "language": "python",
   "name": "python2"
  },
  "language_info": {
   "codemirror_mode": {
    "name": "ipython",
    "version": 2
   },
   "file_extension": ".py",
   "mimetype": "text/x-python",
   "name": "python",
   "nbconvert_exporter": "python",
   "pygments_lexer": "ipython2",
   "version": "2.7.13"
  }
 },
 "nbformat": 4,
 "nbformat_minor": 2
}
