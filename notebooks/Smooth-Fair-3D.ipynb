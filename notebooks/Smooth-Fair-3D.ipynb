{
 "cells": [
  {
   "cell_type": "code",
   "execution_count": 1,
   "metadata": {},
   "outputs": [],
   "source": [
    "from load_data import load_data\n",
    "from distance import total_variation_distance\n",
    "from test_instances.ts_test import TSTest\n",
    "from test_instances.fair_sd_ts_test import FairSDTest\n",
    "from test_instances.sd_ts_test import SDTest\n",
    "import numpy as np\n",
    "import test_instances.test as test"
   ]
  },
  {
   "cell_type": "code",
   "execution_count": 2,
   "metadata": {
    "collapsed": true
   },
   "outputs": [],
   "source": [
    "T = 1000\n",
    "N_ITERATIONS = 100.\n",
    "DATA_SET = ['Bar Exam', 'Default on Credit'][0] # = 'Bar Exam'\n",
    "bandits = load_data(DATA_SET)\n"
   ]
  },
  {
   "cell_type": "code",
   "execution_count": null,
   "metadata": {
    "collapsed": true
   },
   "outputs": [],
   "source": [
    "n = 7#=> 100*100*100 points\n",
    "e2_arr = np.linspace(np.finfo(float).eps, 1, n) #falls e2 >= k dann ist e2>= max(D(pi||pi)) also immer smooth fair\n",
    "e1_arr = np.linspace(np.finfo(float).eps, 5, n)\n",
    "delta_arr = np.linspace(np.finfo(float).eps, 1-np.finfo(float).eps, n)"
   ]
  },
  {
   "cell_type": "code",
   "execution_count": null,
   "metadata": {},
   "outputs": [],
   "source": [
    "\n",
    "fair_sd_test = FairSDTest(N_ITERATIONS, bandits, T, e1_arr, e2_arr, delta_arr)\n",
    "fair_sd_test.analyse(regret = False, fair_regret=False)\n",
    "fair_sd_test.frac_smooth_fair()\n"
   ]
  },
  {
   "cell_type": "code",
   "execution_count": null,
   "metadata": {},
   "outputs": [],
   "source": [
    "\n",
    "sd_test = SDTest(N_ITERATIONS, bandits, T, e1_arr, e2_arr, delta_arr)\n",
    "sd_test.analyse(regret = False, fair_regret=False)\n",
    "sd_test.frac_smooth_fair()"
   ]
  },
  {
   "cell_type": "code",
   "execution_count": null,
   "metadata": {},
   "outputs": [],
   "source": [
    "#e1_ind, e2_ind, d_ind = sd_test.is_smooth_fair.nonzero()\n",
    "e1_ind = []\n",
    "e2_ind = []\n",
    "d_min_ind = []\n",
    "for i in range(len(e1_arr)):\n",
    "    for j in range(len(e2_arr)):\n",
    "        for d in range(len(delta_arr)):\n",
    "            if sd_test.is_smooth_fair[i][j][d]:\n",
    "                e1_ind.append(i)\n",
    "                e2_ind.append(j)\n",
    "                d_min_ind.append(d)\n",
    "                break\n",
    "\n",
    "import matplotlib.pyplot as plt\n",
    "from mpl_toolkits.mplot3d import Axes3D\n",
    "fig = plt.figure()\n",
    "ax = fig.add_subplot(111, projection='3d')\n",
    "ax.scatter(e1_arr[e1_ind], e2_arr[e2_ind], delta_arr[d_min_ind])\n",
    "ax.set_xlabel('e1')\n",
    "ax.set_ylabel('e2')\n",
    "ax.set_zlabel('delta')\n",
    "plt.show()"
   ]
  },
  {
   "cell_type": "code",
   "execution_count": null,
   "metadata": {
    "collapsed": true
   },
   "outputs": [],
   "source": [
    "e1_ind, e2_ind, d_ind = fair_sd_test.is_smooth_fair.nonzero()\n",
    "\n",
    "\n",
    "import matplotlib.pyplot as plt\n",
    "from mpl_toolkits.mplot3d import Axes3D\n",
    "fig = plt.figure()\n",
    "ax = fig.add_subplot(111, projection='3d')\n",
    "ax.scatter(e1_arr[e1_ind], e2_arr[e2_ind], delta_arr[d_ind])\n",
    "ax.set_xlabel('e1')\n",
    "ax.set_ylabel('e2')\n",
    "ax.set_zlabel('delta')\n",
    "plt.show()"
   ]
  },
  {
   "cell_type": "code",
   "execution_count": null,
   "metadata": {
    "collapsed": true
   },
   "outputs": [],
   "source": []
  }
 ],
 "metadata": {
  "kernelspec": {
   "display_name": "Python 2",
   "language": "python",
   "name": "python2"
  },
  "language_info": {
   "codemirror_mode": {
    "name": "ipython",
    "version": 2
   },
   "file_extension": ".py",
   "mimetype": "text/x-python",
   "name": "python",
   "nbconvert_exporter": "python",
   "pygments_lexer": "ipython2",
   "version": "2.7.14"
  }
 },
 "nbformat": 4,
 "nbformat_minor": 2
}
