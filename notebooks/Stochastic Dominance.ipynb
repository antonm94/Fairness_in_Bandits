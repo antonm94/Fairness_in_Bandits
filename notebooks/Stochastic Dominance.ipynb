{
 "cells": [
  {
   "cell_type": "code",
   "execution_count": 1,
   "metadata": {},
   "outputs": [],
   "source": [
    "import sys\n",
    "sys.path.append(\"../\") # go to parent dir\n",
    "\n",
    "\n",
    "import random\n",
    "from load_data import load_data\n",
    "from distance import total_variation_distance\n",
    "from test_instances.ts_test import TSTest\n",
    "from test_instances.fair_sd_ts_test import FairSDTest\n",
    "from test_instances.sd_ts_test import SDTest\n",
    "import numpy as np\n",
    "import test_instances.plots as plot\n"
   ]
  },
  {
   "cell_type": "code",
   "execution_count": null,
   "metadata": {},
   "outputs": [],
   "source": [
    "N_ITERATIONS = 1000.\n",
    "DATA_SET = ['Bar Exam', 'Default on Credit'][0]\n",
    "bandits = load_data(DATA_SET)\n",
    "\n",
    "\n",
    "T = 2000\n",
    "e1 = np.linspace(0, 2., 20)\n",
    "e2 = np.linspace(0, 1., 20)\n",
    "delta = [0.]\n"
   ]
  },
  {
   "cell_type": "code",
   "execution_count": null,
   "metadata": {},
   "outputs": [],
   "source": [
    "random.seed(0)\n",
    "np.random.seed(0)\n",
    "sd_test = SDTest(N_ITERATIONS, bandits, T, e1, e2, delta, lam=1, distance=total_variation_distance)\n",
    "sd_test.analyse(fair_regret=True, regret=True, subjective_smooth_fair=True, smooth_fair=True)"
   ]
  },
  {
   "cell_type": "code",
   "execution_count": null,
   "metadata": {},
   "outputs": [],
   "source": [
    "plot.plot_delta_subjective_fair([sd_test], start_index = 1)\n",
    "plot.plot_delta_smooth_fair([sd_test], start_index = 1)\n"
   ]
  },
  {
   "cell_type": "code",
   "execution_count": null,
   "metadata": {
    "collapsed": true
   },
   "outputs": [],
   "source": []
  }
 ],
 "metadata": {
  "kernelspec": {
   "display_name": "Python 2",
   "language": "python",
   "name": "python2"
  },
  "language_info": {
   "codemirror_mode": {
    "name": "ipython",
    "version": 2
   },
   "file_extension": ".py",
   "mimetype": "text/x-python",
   "name": "python",
   "nbconvert_exporter": "python",
   "pygments_lexer": "ipython2",
   "version": "2.7.14"
  }
 },
 "nbformat": 4,
 "nbformat_minor": 2
}
