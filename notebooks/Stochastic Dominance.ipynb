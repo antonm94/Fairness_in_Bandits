{
 "cells": [
  {
   "cell_type": "code",
   "execution_count": 1,
   "metadata": {},
   "outputs": [],
   "source": [
    "import sys\n",
    "sys.path.append(\"../\") # go to parent dir\n",
    "\n",
    "\n",
    "import random\n",
    "from load_data import load_data\n",
    "from distance import total_variation_distance\n",
    "from test_instances.ts_test import TSTest\n",
    "from test_instances.fair_sd_ts_test import FairSDTest\n",
    "from test_instances.sd_ts_test import SDTest\n",
    "import numpy as np\n",
    "import test_instances.plots as plot\n"
   ]
  },
  {
   "cell_type": "code",
   "execution_count": 5,
   "metadata": {},
   "outputs": [],
   "source": [
    "N_ITERATIONS = 1000.\n",
    "DATA_SET = ['Bar Exam', 'Default on Credit'][0]\n",
    "bandits = load_data(DATA_SET)\n",
    "\n",
    "\n",
    "T = 2000\n",
    "e1 = np.linspace(0, 2., 10)\n",
    "e2 = np.linspace(0, 1., 10)\n",
    "delta = [0.]\n"
   ]
  },
  {
   "cell_type": "code",
   "execution_count": 6,
   "metadata": {},
   "outputs": [
    {
     "ename": "KeyboardInterrupt",
     "evalue": "",
     "traceback": [
      "\u001b[0;31m---------------------------------------------------------------------------\u001b[0m",
      "\u001b[0;31mKeyboardInterrupt\u001b[0m                         Traceback (most recent call last)",
      "\u001b[0;32m<ipython-input-6-8341852e9508>\u001b[0m in \u001b[0;36m<module>\u001b[0;34m()\u001b[0m\n\u001b[1;32m      3\u001b[0m \u001b[0;31m#print sys.path\u001b[0m\u001b[0;34m\u001b[0m\u001b[0;34m\u001b[0m\u001b[0m\n\u001b[1;32m      4\u001b[0m \u001b[0msd_test\u001b[0m \u001b[0;34m=\u001b[0m \u001b[0mSDTest\u001b[0m\u001b[0;34m(\u001b[0m\u001b[0mN_ITERATIONS\u001b[0m\u001b[0;34m,\u001b[0m \u001b[0mbandits\u001b[0m\u001b[0;34m,\u001b[0m \u001b[0mT\u001b[0m\u001b[0;34m,\u001b[0m \u001b[0me1\u001b[0m\u001b[0;34m,\u001b[0m \u001b[0me2\u001b[0m\u001b[0;34m,\u001b[0m \u001b[0mdelta\u001b[0m\u001b[0;34m,\u001b[0m \u001b[0mlam\u001b[0m\u001b[0;34m=\u001b[0m\u001b[0;36m1\u001b[0m\u001b[0;34m,\u001b[0m \u001b[0mdistance\u001b[0m\u001b[0;34m=\u001b[0m\u001b[0mtotal_variation_distance\u001b[0m\u001b[0;34m)\u001b[0m\u001b[0;34m\u001b[0m\u001b[0m\n\u001b[0;32m----> 5\u001b[0;31m \u001b[0msd_test\u001b[0m\u001b[0;34m.\u001b[0m\u001b[0manalyse\u001b[0m\u001b[0;34m(\u001b[0m\u001b[0mfair_regret\u001b[0m\u001b[0;34m=\u001b[0m\u001b[0mTrue\u001b[0m\u001b[0;34m,\u001b[0m \u001b[0mregret\u001b[0m\u001b[0;34m=\u001b[0m\u001b[0mTrue\u001b[0m\u001b[0;34m,\u001b[0m \u001b[0msubjective_smooth_fair\u001b[0m\u001b[0;34m=\u001b[0m\u001b[0mTrue\u001b[0m\u001b[0;34m,\u001b[0m \u001b[0msmooth_fair\u001b[0m\u001b[0;34m=\u001b[0m\u001b[0mTrue\u001b[0m\u001b[0;34m)\u001b[0m\u001b[0;34m\u001b[0m\u001b[0m\n\u001b[0m",
      "\u001b[0;32m../test_instances/ts_test.pyc\u001b[0m in \u001b[0;36manalyse\u001b[0;34m(self, regret, fair_regret, smooth_fair, subjective_smooth_fair)\u001b[0m\n",
      "\u001b[0;32m../test_instances/ts_test.pyc\u001b[0m in \u001b[0;36manalyse_from_file\u001b[0;34m(self, regret, fair_regret, smooth_fair, subjective_smooth_fair)\u001b[0m\n",
      "\u001b[0;32m../test_instances/ts_test.pyc\u001b[0m in \u001b[0;36mcalc_smooth_fairness\u001b[0;34m(self, e1_ind, e2_ind, e2_times)\u001b[0m\n",
      "\u001b[0;31mKeyboardInterrupt\u001b[0m: "
     ],
     "output_type": "error"
    }
   ],
   "source": [
    "random.seed(0)\n",
    "np.random.seed(0)\n",
    "#print sys.path\n",
    "sd_test = SDTest(N_ITERATIONS, bandits, T, e1, e2, delta, lam=1, distance=total_variation_distance)\n",
    "sd_test.analyse(fair_regret=True, regret=True, subjective_smooth_fair=True, smooth_fair=True)"
   ]
  },
  {
   "cell_type": "code",
   "execution_count": null,
   "metadata": {},
   "outputs": [],
   "source": [
    "plot.plot_delta_subjective_fair([sd_test], start_index = 1)\n",
    "plot.plot_delta_smooth_fair([sd_test], start_index = 1)\n"
   ]
  },
  {
   "cell_type": "code",
   "execution_count": null,
   "metadata": {
    "collapsed": true
   },
   "outputs": [],
   "source": []
  }
 ],
 "metadata": {
  "kernelspec": {
   "display_name": "Python 2",
   "language": "python",
   "name": "python2"
  },
  "language_info": {
   "codemirror_mode": {
    "name": "ipython",
    "version": 2
   },
   "file_extension": ".py",
   "mimetype": "text/x-python",
   "name": "python",
   "nbconvert_exporter": "python",
   "pygments_lexer": "ipython2",
   "version": "2.7.14"
  }
 },
 "nbformat": 4,
 "nbformat_minor": 2
}
