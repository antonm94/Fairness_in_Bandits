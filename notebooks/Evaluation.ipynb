{
 "cells": [
  {
   "cell_type": "code",
   "execution_count": 1,
   "metadata": {
    "collapsed": false
   },
   "outputs": [],
   "source": [
    "from test import Test\n",
    "from load_data import load_data\n",
    "import numpy as np\n",
    "import matplotlib.pyplot as plt\n",
    "import random"
   ]
  },
  {
   "cell_type": "code",
   "execution_count": 6,
   "metadata": {
    "collapsed": false
   },
   "outputs": [],
   "source": [
    "T = 10000\n",
    "N_ITERATIONS = 100.\n",
    "DATA_SET = ['Bar Exam', 'Default on Credit'][0] # = 'Bar Exam'\n",
    "bandits = load_data(DATA_SET)\n",
    "e1 = [2]\n",
    "e2 = [np.finfo(float).eps, 0.1, 0.4, 0.8, 1,5, 10]\n",
    "delta = [np.finfo(float).eps, 0.1, 0.5, 0.9, 1-np.finfo(float).eps]\n",
    "lam = [1]"
   ]
  },
  {
   "cell_type": "code",
   "execution_count": null,
   "metadata": {
    "collapsed": false
   },
   "outputs": [],
   "source": [
    "TEST_THOMPSON = 0\n",
    "TEST_SD_TS = 0\n",
    "TEST_FAIR_SD_TS = 1 \n",
    "METHODS = TEST_THOMPSON*['Thompson Sampling'] + TEST_SD_TS*['Stochastic Dominance Thompson Sampling'] + \\\n",
    "          TEST_FAIR_SD_TS*['Fair Stochastic Dominance Thompson Sampling']\n",
    "\n",
    "test1 = Test(bandits, METHODS, N_ITERATIONS, T, e1, e2, delta, lam)\n",
    "test1.print_result()\n"
   ]
  },
  {
   "cell_type": "code",
   "execution_count": 4,
   "metadata": {
    "collapsed": false
   },
   "outputs": [
    {
     "name": "stdout",
     "output_type": "stream",
     "text": [
      "121.95\n",
      "63.62\n"
     ]
    }
   ],
   "source": [
    "for test in test1.test_cases:\n",
    "    print test.average_rounds_exploring"
   ]
  },
  {
   "cell_type": "code",
   "execution_count": null,
   "metadata": {
    "collapsed": false
   },
   "outputs": [],
   "source": [
    "test1.plot_smooth_fairness()\n"
   ]
  },
  {
   "cell_type": "code",
   "execution_count": null,
   "metadata": {
    "collapsed": false
   },
   "outputs": [],
   "source": [
    "test1.plot_fairness_regret()\n"
   ]
  },
  {
   "cell_type": "code",
   "execution_count": null,
   "metadata": {
    "collapsed": false
   },
   "outputs": [],
   "source": [
    "test1.plot_average_total_regret()\n"
   ]
  },
  {
   "cell_type": "code",
   "execution_count": null,
   "metadata": {
    "collapsed": false
   },
   "outputs": [],
   "source": [
    "T = 100\n",
    "N_ITERATIONS = 10.\n",
    "TEST_THOMPSON = 0\n",
    "TEST_SD_TS = 0\n",
    "TEST_FAIR_SD_TS = 1\n",
    "METHODS = TEST_THOMPSON*['Thompson Sampling'] + TEST_SD_TS*['Stochastic Dominance Thompson Sampling'] + \\\n",
    "          TEST_FAIR_SD_TS*['Fair Stochastic Dominance Thompson Sampling']\n",
    "\n",
    "n_lam = 10\n",
    "e1 = [2]\n",
    "e2 = [0.001]\n",
    "delta = [1.0]\n",
    "lam = np.linspace(0,1,n_lam)\n",
    "regret_tradeoff = Test(bandits, METHODS, N_ITERATIONS, T, e1, e2, delta, lam)\n",
    "\n",
    "\n"
   ]
  },
  {
   "cell_type": "code",
   "execution_count": null,
   "metadata": {
    "collapsed": false
   },
   "outputs": [],
   "source": [
    "regret_tradeoff.plot_lambda_regret_tradeoff(lam)\n",
    "regret_tradeoff.plot_regret_tradeoff(lam)"
   ]
  },
  {
   "cell_type": "code",
   "execution_count": null,
   "metadata": {
    "collapsed": false
   },
   "outputs": [],
   "source": [
    "TEST_THOMPSON = 0\n",
    "TEST_SD_TS = 0\n",
    "TEST_FAIR_SD_TS = 1\n",
    "METHODS = TEST_THOMPSON*['Thompson Sampling'] + TEST_SD_TS*['Stochastic Dominance Thompson Sampling'] + \\\n",
    "          TEST_FAIR_SD_TS*['Fair Stochastic Dominance Thompson Sampling']\n",
    "\n",
    "n_lam = 100\n",
    "e1 = [2]\n",
    "e2 = [0.001]\n",
    "delta = [1.0]\n",
    "lam = np.linspace(0,1,n_lam)\n",
    "regret_tradeoff = Test(bandits, METHODS, N_ITERATIONS, T, e1, e2, delta, lam)\n",
    "\n",
    "\n"
   ]
  },
  {
   "cell_type": "code",
   "execution_count": null,
   "metadata": {
    "collapsed": false
   },
   "outputs": [],
   "source": [
    "regret_tradeoff.plot_lambda_regret_tradeoff(lam)\n",
    "regret_tradeoff.plot_regret_tradeoff(lam)\n"
   ]
  }
 ],
 "metadata": {
  "kernelspec": {
   "display_name": "Python 2",
   "language": "python",
   "name": "python2"
  },
  "language_info": {
   "codemirror_mode": {
    "name": "ipython",
    "version": 2
   },
   "file_extension": ".py",
   "mimetype": "text/x-python",
   "name": "python",
   "nbconvert_exporter": "python",
   "pygments_lexer": "ipython2",
   "version": "2.7.13"
  }
 },
 "nbformat": 4,
 "nbformat_minor": 2
}
